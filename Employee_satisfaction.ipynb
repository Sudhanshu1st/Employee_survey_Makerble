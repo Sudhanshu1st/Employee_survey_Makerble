{
 "cells": [
  {
   "cell_type": "markdown",
   "id": "13f6dbaa",
   "metadata": {},
   "source": [
    "# Task Overview\n",
    "\n",
    "Makerble is a data platform that enables nonprofit organisations to measure their impact. Surveys are one of the main methods used by nonprofits to measure their impact using the Makerble platform. Makerble enables them to design, distribute and analyse surveys. We don’t expect you to be an expert on impact measurement but we do expect you to be able to analyse data. That’s why for this task we have provided you with a sample dataset from an Employee Experience Survey conducted at a fictional nonprofit organisation. Our task is to demonstrate both descriptive and inferential statistics skills to identify trends and insights from the survey responses. "
   ]
  },
  {
   "cell_type": "markdown",
   "id": "f12fab97",
   "metadata": {},
   "source": [
    "### Importing the libraries: "
   ]
  },
  {
   "cell_type": "code",
   "execution_count": 44,
   "id": "cdf5b0b9",
   "metadata": {},
   "outputs": [],
   "source": [
    "import pandas as pd\n",
    "import numpy as np\n",
    "from scipy import stats\n",
    "import seaborn as sns\n",
    "import matplotlib.pyplot as plt"
   ]
  },
  {
   "cell_type": "markdown",
   "id": "3fd4fb07",
   "metadata": {},
   "source": [
    "### Loading our Data"
   ]
  },
  {
   "cell_type": "code",
   "execution_count": 45,
   "id": "c2a5b031",
   "metadata": {},
   "outputs": [],
   "source": [
    "df = pd.read_csv(r\"C:\\Users\\sudha\\My Projects\\Employee-Analysis\\employee_experience_survey_data.csv\")"
   ]
  },
  {
   "cell_type": "code",
   "execution_count": 46,
   "id": "2c047827",
   "metadata": {},
   "outputs": [
    {
     "data": {
      "text/html": [
       "<div>\n",
       "<style scoped>\n",
       "    .dataframe tbody tr th:only-of-type {\n",
       "        vertical-align: middle;\n",
       "    }\n",
       "\n",
       "    .dataframe tbody tr th {\n",
       "        vertical-align: top;\n",
       "    }\n",
       "\n",
       "    .dataframe thead th {\n",
       "        text-align: right;\n",
       "    }\n",
       "</style>\n",
       "<table border=\"1\" class=\"dataframe\">\n",
       "  <thead>\n",
       "    <tr style=\"text-align: right;\">\n",
       "      <th></th>\n",
       "      <th>Name</th>\n",
       "      <th>Age Bracket</th>\n",
       "      <th>Gender</th>\n",
       "      <th>Ethnicity</th>\n",
       "      <th>Job Title</th>\n",
       "      <th>Department</th>\n",
       "      <th>Date Survey Completed</th>\n",
       "      <th>Job Satisfaction</th>\n",
       "      <th>Work-Life Balance</th>\n",
       "      <th>Management Support</th>\n",
       "      <th>Team Collaboration</th>\n",
       "      <th>Workload Fairness</th>\n",
       "      <th>Career Development Opportunities</th>\n",
       "      <th>Workplace Inclusivity</th>\n",
       "      <th>Company Communication</th>\n",
       "      <th>Compensation Satisfaction</th>\n",
       "      <th>Job Security</th>\n",
       "      <th>Overall Engagement</th>\n",
       "    </tr>\n",
       "  </thead>\n",
       "  <tbody>\n",
       "    <tr>\n",
       "      <th>0</th>\n",
       "      <td>John Doe</td>\n",
       "      <td>25-34</td>\n",
       "      <td>Female</td>\n",
       "      <td>Asian</td>\n",
       "      <td>Product Manager</td>\n",
       "      <td>Product Development</td>\n",
       "      <td>2024-10-05</td>\n",
       "      <td>Disagree</td>\n",
       "      <td>Strongly Agree</td>\n",
       "      <td>Neutral</td>\n",
       "      <td>Neutral</td>\n",
       "      <td>Neutral</td>\n",
       "      <td>Disagree</td>\n",
       "      <td>Agree</td>\n",
       "      <td>Strongly Agree</td>\n",
       "      <td>Strongly Agree</td>\n",
       "      <td>Agree</td>\n",
       "      <td>Strongly Agree</td>\n",
       "    </tr>\n",
       "    <tr>\n",
       "      <th>1</th>\n",
       "      <td>Jane Smith</td>\n",
       "      <td>18-24</td>\n",
       "      <td>Female</td>\n",
       "      <td>Middle Eastern</td>\n",
       "      <td>Operations Manager</td>\n",
       "      <td>Sales</td>\n",
       "      <td>2024-10-07</td>\n",
       "      <td>Agree</td>\n",
       "      <td>Strongly Disagree</td>\n",
       "      <td>Strongly Agree</td>\n",
       "      <td>Neutral</td>\n",
       "      <td>Neutral</td>\n",
       "      <td>Disagree</td>\n",
       "      <td>Neutral</td>\n",
       "      <td>Neutral</td>\n",
       "      <td>Neutral</td>\n",
       "      <td>Agree</td>\n",
       "      <td>Neutral</td>\n",
       "    </tr>\n",
       "    <tr>\n",
       "      <th>2</th>\n",
       "      <td>Carlos Reyes</td>\n",
       "      <td>45-54</td>\n",
       "      <td>Female</td>\n",
       "      <td>Indian</td>\n",
       "      <td>UX Designer</td>\n",
       "      <td>Consulting</td>\n",
       "      <td>2024-10-08</td>\n",
       "      <td>Neutral</td>\n",
       "      <td>Strongly Disagree</td>\n",
       "      <td>Agree</td>\n",
       "      <td>Disagree</td>\n",
       "      <td>Strongly Agree</td>\n",
       "      <td>Agree</td>\n",
       "      <td>Agree</td>\n",
       "      <td>Strongly Disagree</td>\n",
       "      <td>Neutral</td>\n",
       "      <td>Strongly Agree</td>\n",
       "      <td>Strongly Agree</td>\n",
       "    </tr>\n",
       "    <tr>\n",
       "      <th>3</th>\n",
       "      <td>Emily Zhang</td>\n",
       "      <td>35-44</td>\n",
       "      <td>Male</td>\n",
       "      <td>Caucasian</td>\n",
       "      <td>UX Designer</td>\n",
       "      <td>HR</td>\n",
       "      <td>2024-10-07</td>\n",
       "      <td>Neutral</td>\n",
       "      <td>Agree</td>\n",
       "      <td>Agree</td>\n",
       "      <td>Strongly Disagree</td>\n",
       "      <td>Strongly Disagree</td>\n",
       "      <td>Strongly Agree</td>\n",
       "      <td>Agree</td>\n",
       "      <td>Strongly Disagree</td>\n",
       "      <td>Strongly Disagree</td>\n",
       "      <td>Agree</td>\n",
       "      <td>Neutral</td>\n",
       "    </tr>\n",
       "    <tr>\n",
       "      <th>4</th>\n",
       "      <td>Michael Johnson</td>\n",
       "      <td>18-24</td>\n",
       "      <td>Female</td>\n",
       "      <td>Caucasian</td>\n",
       "      <td>UX Designer</td>\n",
       "      <td>Product Development</td>\n",
       "      <td>2024-10-07</td>\n",
       "      <td>Agree</td>\n",
       "      <td>Strongly Agree</td>\n",
       "      <td>Disagree</td>\n",
       "      <td>Neutral</td>\n",
       "      <td>Strongly Disagree</td>\n",
       "      <td>Disagree</td>\n",
       "      <td>Disagree</td>\n",
       "      <td>Disagree</td>\n",
       "      <td>Strongly Disagree</td>\n",
       "      <td>Neutral</td>\n",
       "      <td>Disagree</td>\n",
       "    </tr>\n",
       "  </tbody>\n",
       "</table>\n",
       "</div>"
      ],
      "text/plain": [
       "              Name Age Bracket  Gender       Ethnicity           Job Title  \\\n",
       "0         John Doe       25-34  Female           Asian     Product Manager   \n",
       "1       Jane Smith       18-24  Female  Middle Eastern  Operations Manager   \n",
       "2     Carlos Reyes       45-54  Female          Indian         UX Designer   \n",
       "3      Emily Zhang       35-44    Male       Caucasian         UX Designer   \n",
       "4  Michael Johnson       18-24  Female       Caucasian         UX Designer   \n",
       "\n",
       "            Department Date Survey Completed Job Satisfaction  \\\n",
       "0  Product Development            2024-10-05         Disagree   \n",
       "1                Sales            2024-10-07            Agree   \n",
       "2           Consulting            2024-10-08          Neutral   \n",
       "3                   HR            2024-10-07          Neutral   \n",
       "4  Product Development            2024-10-07            Agree   \n",
       "\n",
       "   Work-Life Balance Management Support Team Collaboration  Workload Fairness  \\\n",
       "0     Strongly Agree            Neutral            Neutral            Neutral   \n",
       "1  Strongly Disagree     Strongly Agree            Neutral            Neutral   \n",
       "2  Strongly Disagree              Agree           Disagree     Strongly Agree   \n",
       "3              Agree              Agree  Strongly Disagree  Strongly Disagree   \n",
       "4     Strongly Agree           Disagree            Neutral  Strongly Disagree   \n",
       "\n",
       "  Career Development Opportunities Workplace Inclusivity  \\\n",
       "0                         Disagree                 Agree   \n",
       "1                         Disagree               Neutral   \n",
       "2                            Agree                 Agree   \n",
       "3                   Strongly Agree                 Agree   \n",
       "4                         Disagree              Disagree   \n",
       "\n",
       "  Company Communication Compensation Satisfaction    Job Security  \\\n",
       "0        Strongly Agree            Strongly Agree           Agree   \n",
       "1               Neutral                   Neutral           Agree   \n",
       "2     Strongly Disagree                   Neutral  Strongly Agree   \n",
       "3     Strongly Disagree         Strongly Disagree           Agree   \n",
       "4              Disagree         Strongly Disagree         Neutral   \n",
       "\n",
       "  Overall Engagement  \n",
       "0     Strongly Agree  \n",
       "1            Neutral  \n",
       "2     Strongly Agree  \n",
       "3            Neutral  \n",
       "4           Disagree  "
      ]
     },
     "execution_count": 46,
     "metadata": {},
     "output_type": "execute_result"
    }
   ],
   "source": [
    "df.head()"
   ]
  },
  {
   "cell_type": "markdown",
   "id": "37384fcf",
   "metadata": {},
   "source": [
    "Let's start with Descriptive Analysis of the data: \n",
    "\n",
    "## 1. Descriptive Analysis "
   ]
  },
  {
   "cell_type": "code",
   "execution_count": 47,
   "id": "b4fecd8c",
   "metadata": {},
   "outputs": [],
   "source": [
    "## Mapping survey responses to numeric values for analysis\n",
    "\n",
    "response_mapping = {\n",
    "    \n",
    "    \"Strongly Disagree\": 1,\n",
    "    \"Disagree\": 2,\n",
    "    \"Neutral\": 3,\n",
    "    \"Agree\": 4,\n",
    "    \"Strongly Agree\": 5\n",
    "}\n"
   ]
  },
  {
   "cell_type": "code",
   "execution_count": 48,
   "id": "b58568f3-232a-4c19-a3ac-e53d02daf447",
   "metadata": {},
   "outputs": [],
   "source": [
    "# Mapping response_mapping to the specified columns\n",
    "df[\"Job Satisfaction\"] = df[\"Job Satisfaction\"].map(response_mapping)\n",
    "df[\"Work-Life Balance\"] = df[\"Work-Life Balance\"].map(response_mapping)\n",
    "df[\"Overall Engagement\"] = df[\"Overall Engagement\"].map(response_mapping)\n",
    "df[\"Management Support\"] = df[\"Management Support\"].map(response_mapping)\n",
    "df[\"Team Collaboration\"] = df[\"Team Collaboration\"].map(response_mapping)\n",
    "df[\"Workload Fairness\"] = df[\"Workload Fairness\"].map(response_mapping)\n",
    "df[\"Career Development Opportunities\"] = df[\"Career Development Opportunities\"].map(response_mapping)\n",
    "df[\"Workplace Inclusivity\"] = df[\"Workplace Inclusivity\"].map(response_mapping)\n",
    "df[\"Company Communication\"] = df[\"Company Communication\"].map(response_mapping)\n",
    "df[\"Compensation Satisfaction\"] = df[\"Compensation Satisfaction\"].map(response_mapping)\n",
    "df[\"Job Security\"] = df[\"Job Security\"].map(response_mapping)"
   ]
  },
  {
   "cell_type": "code",
   "execution_count": 49,
   "id": "6a5efb35-c4a6-4cdf-ac1b-de8c93a6e8fe",
   "metadata": {},
   "outputs": [
    {
     "data": {
      "text/html": [
       "<div>\n",
       "<style scoped>\n",
       "    .dataframe tbody tr th:only-of-type {\n",
       "        vertical-align: middle;\n",
       "    }\n",
       "\n",
       "    .dataframe tbody tr th {\n",
       "        vertical-align: top;\n",
       "    }\n",
       "\n",
       "    .dataframe thead th {\n",
       "        text-align: right;\n",
       "    }\n",
       "</style>\n",
       "<table border=\"1\" class=\"dataframe\">\n",
       "  <thead>\n",
       "    <tr style=\"text-align: right;\">\n",
       "      <th></th>\n",
       "      <th>Name</th>\n",
       "      <th>Age Bracket</th>\n",
       "      <th>Gender</th>\n",
       "      <th>Ethnicity</th>\n",
       "      <th>Job Title</th>\n",
       "      <th>Department</th>\n",
       "      <th>Date Survey Completed</th>\n",
       "      <th>Job Satisfaction</th>\n",
       "      <th>Work-Life Balance</th>\n",
       "      <th>Management Support</th>\n",
       "      <th>Team Collaboration</th>\n",
       "      <th>Workload Fairness</th>\n",
       "      <th>Career Development Opportunities</th>\n",
       "      <th>Workplace Inclusivity</th>\n",
       "      <th>Company Communication</th>\n",
       "      <th>Compensation Satisfaction</th>\n",
       "      <th>Job Security</th>\n",
       "      <th>Overall Engagement</th>\n",
       "    </tr>\n",
       "  </thead>\n",
       "  <tbody>\n",
       "    <tr>\n",
       "      <th>0</th>\n",
       "      <td>John Doe</td>\n",
       "      <td>25-34</td>\n",
       "      <td>Female</td>\n",
       "      <td>Asian</td>\n",
       "      <td>Product Manager</td>\n",
       "      <td>Product Development</td>\n",
       "      <td>2024-10-05</td>\n",
       "      <td>2</td>\n",
       "      <td>5</td>\n",
       "      <td>3</td>\n",
       "      <td>3</td>\n",
       "      <td>3</td>\n",
       "      <td>2</td>\n",
       "      <td>4</td>\n",
       "      <td>5</td>\n",
       "      <td>5</td>\n",
       "      <td>4</td>\n",
       "      <td>5</td>\n",
       "    </tr>\n",
       "    <tr>\n",
       "      <th>1</th>\n",
       "      <td>Jane Smith</td>\n",
       "      <td>18-24</td>\n",
       "      <td>Female</td>\n",
       "      <td>Middle Eastern</td>\n",
       "      <td>Operations Manager</td>\n",
       "      <td>Sales</td>\n",
       "      <td>2024-10-07</td>\n",
       "      <td>4</td>\n",
       "      <td>1</td>\n",
       "      <td>5</td>\n",
       "      <td>3</td>\n",
       "      <td>3</td>\n",
       "      <td>2</td>\n",
       "      <td>3</td>\n",
       "      <td>3</td>\n",
       "      <td>3</td>\n",
       "      <td>4</td>\n",
       "      <td>3</td>\n",
       "    </tr>\n",
       "    <tr>\n",
       "      <th>2</th>\n",
       "      <td>Carlos Reyes</td>\n",
       "      <td>45-54</td>\n",
       "      <td>Female</td>\n",
       "      <td>Indian</td>\n",
       "      <td>UX Designer</td>\n",
       "      <td>Consulting</td>\n",
       "      <td>2024-10-08</td>\n",
       "      <td>3</td>\n",
       "      <td>1</td>\n",
       "      <td>4</td>\n",
       "      <td>2</td>\n",
       "      <td>5</td>\n",
       "      <td>4</td>\n",
       "      <td>4</td>\n",
       "      <td>1</td>\n",
       "      <td>3</td>\n",
       "      <td>5</td>\n",
       "      <td>5</td>\n",
       "    </tr>\n",
       "    <tr>\n",
       "      <th>3</th>\n",
       "      <td>Emily Zhang</td>\n",
       "      <td>35-44</td>\n",
       "      <td>Male</td>\n",
       "      <td>Caucasian</td>\n",
       "      <td>UX Designer</td>\n",
       "      <td>HR</td>\n",
       "      <td>2024-10-07</td>\n",
       "      <td>3</td>\n",
       "      <td>4</td>\n",
       "      <td>4</td>\n",
       "      <td>1</td>\n",
       "      <td>1</td>\n",
       "      <td>5</td>\n",
       "      <td>4</td>\n",
       "      <td>1</td>\n",
       "      <td>1</td>\n",
       "      <td>4</td>\n",
       "      <td>3</td>\n",
       "    </tr>\n",
       "    <tr>\n",
       "      <th>4</th>\n",
       "      <td>Michael Johnson</td>\n",
       "      <td>18-24</td>\n",
       "      <td>Female</td>\n",
       "      <td>Caucasian</td>\n",
       "      <td>UX Designer</td>\n",
       "      <td>Product Development</td>\n",
       "      <td>2024-10-07</td>\n",
       "      <td>4</td>\n",
       "      <td>5</td>\n",
       "      <td>2</td>\n",
       "      <td>3</td>\n",
       "      <td>1</td>\n",
       "      <td>2</td>\n",
       "      <td>2</td>\n",
       "      <td>2</td>\n",
       "      <td>1</td>\n",
       "      <td>3</td>\n",
       "      <td>2</td>\n",
       "    </tr>\n",
       "  </tbody>\n",
       "</table>\n",
       "</div>"
      ],
      "text/plain": [
       "              Name Age Bracket  Gender       Ethnicity           Job Title  \\\n",
       "0         John Doe       25-34  Female           Asian     Product Manager   \n",
       "1       Jane Smith       18-24  Female  Middle Eastern  Operations Manager   \n",
       "2     Carlos Reyes       45-54  Female          Indian         UX Designer   \n",
       "3      Emily Zhang       35-44    Male       Caucasian         UX Designer   \n",
       "4  Michael Johnson       18-24  Female       Caucasian         UX Designer   \n",
       "\n",
       "            Department Date Survey Completed  Job Satisfaction  \\\n",
       "0  Product Development            2024-10-05                 2   \n",
       "1                Sales            2024-10-07                 4   \n",
       "2           Consulting            2024-10-08                 3   \n",
       "3                   HR            2024-10-07                 3   \n",
       "4  Product Development            2024-10-07                 4   \n",
       "\n",
       "   Work-Life Balance  Management Support  Team Collaboration  \\\n",
       "0                  5                   3                   3   \n",
       "1                  1                   5                   3   \n",
       "2                  1                   4                   2   \n",
       "3                  4                   4                   1   \n",
       "4                  5                   2                   3   \n",
       "\n",
       "   Workload Fairness  Career Development Opportunities  Workplace Inclusivity  \\\n",
       "0                  3                                 2                      4   \n",
       "1                  3                                 2                      3   \n",
       "2                  5                                 4                      4   \n",
       "3                  1                                 5                      4   \n",
       "4                  1                                 2                      2   \n",
       "\n",
       "   Company Communication  Compensation Satisfaction  Job Security  \\\n",
       "0                      5                          5             4   \n",
       "1                      3                          3             4   \n",
       "2                      1                          3             5   \n",
       "3                      1                          1             4   \n",
       "4                      2                          1             3   \n",
       "\n",
       "   Overall Engagement  \n",
       "0                   5  \n",
       "1                   3  \n",
       "2                   5  \n",
       "3                   3  \n",
       "4                   2  "
      ]
     },
     "execution_count": 49,
     "metadata": {},
     "output_type": "execute_result"
    }
   ],
   "source": [
    "df.head(5)"
   ]
  },
  {
   "cell_type": "markdown",
   "id": "d86cc3c5",
   "metadata": {},
   "source": [
    "#### 1.1 Basic statistics:"
   ]
  },
  {
   "cell_type": "code",
   "execution_count": 50,
   "id": "07921129",
   "metadata": {},
   "outputs": [
    {
     "name": "stdout",
     "output_type": "stream",
     "text": [
      "       Job Satisfaction  Overall Engagement\n",
      "count         15.000000           15.000000\n",
      "mean           3.000000            3.400000\n",
      "std            1.309307            1.298351\n",
      "min            1.000000            1.000000\n",
      "25%            2.000000            2.500000\n",
      "50%            3.000000            3.000000\n",
      "75%            4.000000            4.500000\n",
      "max            5.000000            5.000000\n"
     ]
    }
   ],
   "source": [
    "descriptive_statistics = df[[\"Job Satisfaction\", \"Overall Engagement\"]].describe()\n",
    "print(descriptive_statistics)"
   ]
  },
  {
   "cell_type": "markdown",
   "id": "cd842f64-6836-4f8c-a480-2fefc74f3647",
   "metadata": {},
   "source": [
    "#### 1.2 Identifying trends based on Age Bracket"
   ]
  },
  {
   "cell_type": "code",
   "execution_count": 51,
   "id": "e4712647",
   "metadata": {},
   "outputs": [],
   "source": [
    "age_bracket_trends = df.groupby('Age Bracket')[['Job Satisfaction', 'Overall Engagement']].mean()"
   ]
  },
  {
   "cell_type": "code",
   "execution_count": 52,
   "id": "1f7d762a-b77e-4785-b2a3-427fda045277",
   "metadata": {},
   "outputs": [
    {
     "data": {
      "text/html": [
       "<div>\n",
       "<style scoped>\n",
       "    .dataframe tbody tr th:only-of-type {\n",
       "        vertical-align: middle;\n",
       "    }\n",
       "\n",
       "    .dataframe tbody tr th {\n",
       "        vertical-align: top;\n",
       "    }\n",
       "\n",
       "    .dataframe thead th {\n",
       "        text-align: right;\n",
       "    }\n",
       "</style>\n",
       "<table border=\"1\" class=\"dataframe\">\n",
       "  <thead>\n",
       "    <tr style=\"text-align: right;\">\n",
       "      <th></th>\n",
       "      <th>Job Satisfaction</th>\n",
       "      <th>Overall Engagement</th>\n",
       "    </tr>\n",
       "    <tr>\n",
       "      <th>Age Bracket</th>\n",
       "      <th></th>\n",
       "      <th></th>\n",
       "    </tr>\n",
       "  </thead>\n",
       "  <tbody>\n",
       "    <tr>\n",
       "      <th>18-24</th>\n",
       "      <td>3.428571</td>\n",
       "      <td>3.428571</td>\n",
       "    </tr>\n",
       "    <tr>\n",
       "      <th>25-34</th>\n",
       "      <td>3.000000</td>\n",
       "      <td>3.666667</td>\n",
       "    </tr>\n",
       "    <tr>\n",
       "      <th>35-44</th>\n",
       "      <td>2.000000</td>\n",
       "      <td>2.500000</td>\n",
       "    </tr>\n",
       "    <tr>\n",
       "      <th>45-54</th>\n",
       "      <td>2.666667</td>\n",
       "      <td>3.666667</td>\n",
       "    </tr>\n",
       "  </tbody>\n",
       "</table>\n",
       "</div>"
      ],
      "text/plain": [
       "             Job Satisfaction  Overall Engagement\n",
       "Age Bracket                                      \n",
       "18-24                3.428571            3.428571\n",
       "25-34                3.000000            3.666667\n",
       "35-44                2.000000            2.500000\n",
       "45-54                2.666667            3.666667"
      ]
     },
     "execution_count": 52,
     "metadata": {},
     "output_type": "execute_result"
    }
   ],
   "source": [
    "age_bracket_trends"
   ]
  },
  {
   "cell_type": "code",
   "execution_count": 53,
   "id": "eb63b0d0-e18c-4b10-bb5e-c5c47bd8c900",
   "metadata": {},
   "outputs": [
    {
     "data": {
      "image/png": "[encoded data removed]",
      "text/plain": [
       "<Figure size 800x600 with 1 Axes>"
      ]
     },
     "metadata": {},
     "output_type": "display_data"
    }
   ],
   "source": [
    "# Plot Job Satisfaction by Age Bracket\n",
    "plt.figure(figsize=(8, 6))\n",
    "sns.barplot(x=age_bracket_trends.index, y=age_bracket_trends['Job Satisfaction'], palette='Blues_d')\n",
    "plt.title('Average Job Satisfaction by Age Bracket')\n",
    "plt.ylabel('Average Job Satisfaction')\n",
    "plt.xlabel('Age Bracket')\n",
    "plt.show()"
   ]
  },
  {
   "cell_type": "markdown",
   "id": "d3eb659e-e195-421e-8f1e-ce16e4780ff6",
   "metadata": {},
   "source": [
    "Trends by Age Bracket:\n",
    "- 18-24: Average Job Satisfaction is 3.43, while Overall Engagement is 3.43.\n",
    "- 25-34: Job Satisfaction is lower at 3.00, but Engagement is slightly higher at 3.67.\n",
    "- 35-44: Job Satisfaction drops to 2.00, with Engagement at 2.50.\n",
    "- 45-54: Job Satisfaction rises again to 2.67, with Engagement at 3.67."
   ]
  },
  {
   "cell_type": "markdown",
   "id": "4e2e8933-7998-4338-9715-e491804a7223",
   "metadata": {},
   "source": [
    "#### 1.3 Identifying trends based on department "
   ]
  },
  {
   "cell_type": "code",
   "execution_count": 54,
   "id": "8a307506-4e5c-41db-a8e0-d73f7ad5bd6b",
   "metadata": {},
   "outputs": [],
   "source": [
    "department_trends = df.groupby('Department')[['Job Satisfaction', 'Overall Engagement']].mean()"
   ]
  },
  {
   "cell_type": "code",
   "execution_count": 55,
   "id": "347c7dea-967e-43c9-9e06-349735b17c2e",
   "metadata": {},
   "outputs": [
    {
     "data": {
      "text/html": [
       "<div>\n",
       "<style scoped>\n",
       "    .dataframe tbody tr th:only-of-type {\n",
       "        vertical-align: middle;\n",
       "    }\n",
       "\n",
       "    .dataframe tbody tr th {\n",
       "        vertical-align: top;\n",
       "    }\n",
       "\n",
       "    .dataframe thead th {\n",
       "        text-align: right;\n",
       "    }\n",
       "</style>\n",
       "<table border=\"1\" class=\"dataframe\">\n",
       "  <thead>\n",
       "    <tr style=\"text-align: right;\">\n",
       "      <th></th>\n",
       "      <th>Job Satisfaction</th>\n",
       "      <th>Overall Engagement</th>\n",
       "    </tr>\n",
       "    <tr>\n",
       "      <th>Department</th>\n",
       "      <th></th>\n",
       "      <th></th>\n",
       "    </tr>\n",
       "  </thead>\n",
       "  <tbody>\n",
       "    <tr>\n",
       "      <th>Consulting</th>\n",
       "      <td>3.000000</td>\n",
       "      <td>4.000000</td>\n",
       "    </tr>\n",
       "    <tr>\n",
       "      <th>Design</th>\n",
       "      <td>5.000000</td>\n",
       "      <td>1.000000</td>\n",
       "    </tr>\n",
       "    <tr>\n",
       "      <th>Finance</th>\n",
       "      <td>4.000000</td>\n",
       "      <td>5.000000</td>\n",
       "    </tr>\n",
       "    <tr>\n",
       "      <th>HR</th>\n",
       "      <td>4.000000</td>\n",
       "      <td>3.500000</td>\n",
       "    </tr>\n",
       "    <tr>\n",
       "      <th>IT</th>\n",
       "      <td>1.000000</td>\n",
       "      <td>2.000000</td>\n",
       "    </tr>\n",
       "    <tr>\n",
       "      <th>Operations</th>\n",
       "      <td>2.000000</td>\n",
       "      <td>3.000000</td>\n",
       "    </tr>\n",
       "    <tr>\n",
       "      <th>Product Development</th>\n",
       "      <td>2.666667</td>\n",
       "      <td>3.666667</td>\n",
       "    </tr>\n",
       "    <tr>\n",
       "      <th>Sales</th>\n",
       "      <td>2.750000</td>\n",
       "      <td>3.500000</td>\n",
       "    </tr>\n",
       "  </tbody>\n",
       "</table>\n",
       "</div>"
      ],
      "text/plain": [
       "                     Job Satisfaction  Overall Engagement\n",
       "Department                                               \n",
       "Consulting                   3.000000            4.000000\n",
       "Design                       5.000000            1.000000\n",
       "Finance                      4.000000            5.000000\n",
       "HR                           4.000000            3.500000\n",
       "IT                           1.000000            2.000000\n",
       "Operations                   2.000000            3.000000\n",
       "Product Development          2.666667            3.666667\n",
       "Sales                        2.750000            3.500000"
      ]
     },
     "execution_count": 55,
     "metadata": {},
     "output_type": "execute_result"
    }
   ],
   "source": [
    "department_trends"
   ]
  },
  {
   "cell_type": "code",
   "execution_count": 56,
   "id": "01f838fe-e47b-4505-90e0-fce25de935fb",
   "metadata": {},
   "outputs": [
    {
     "data": {
      "image/png": "[encoded data removed]",
      "text/plain": [
       "<Figure size 800x600 with 1 Axes>"
      ]
     },
     "metadata": {},
     "output_type": "display_data"
    }
   ],
   "source": [
    "# Plot Overall Engagement by Department\n",
    "plt.figure(figsize=(8, 6))\n",
    "sns.barplot(x=department_trends.index, y=department_trends['Overall Engagement'], palette='Greens_d')\n",
    "plt.title('Average Overall Engagement by Department')\n",
    "plt.ylabel('Average Overall Engagement')\n",
    "plt.xlabel('Department')\n",
    "plt.xticks(rotation=45, ha=\"right\")\n",
    "plt.show()"
   ]
  },
  {
   "cell_type": "markdown",
   "id": "d9fbcaab-6ce6-4095-b3c0-edf866ebdcad",
   "metadata": {},
   "source": [
    "Trends by Department:\n",
    "- Finance shows the highest satisfaction (4.00) and engagement (5.00).\n",
    "- HR and Consulting have similar engagement levels (around 3.5–4), but HR shows slightly higher satisfaction.\n",
    "- IT has the lowest Job Satisfaction (1.00) and low engagement (2.00)."
   ]
  },
  {
   "cell_type": "markdown",
   "id": "3fd32bd3-82f8-4f05-adb4-7c608e732b6a",
   "metadata": {},
   "source": [
    "#### 1.4 Identifying trends based on Gender"
   ]
  },
  {
   "cell_type": "code",
   "execution_count": 57,
   "id": "69236126-d0c3-4d17-9330-bcbfd4e766bc",
   "metadata": {},
   "outputs": [],
   "source": [
    "genderwise_trends = df.groupby('Gender')[['Job Satisfaction', 'Overall Engagement']].mean()"
   ]
  },
  {
   "cell_type": "code",
   "execution_count": 58,
   "id": "4e259b9a-49f7-441d-9923-c698fce5e07e",
   "metadata": {},
   "outputs": [
    {
     "data": {
      "text/html": [
       "<div>\n",
       "<style scoped>\n",
       "    .dataframe tbody tr th:only-of-type {\n",
       "        vertical-align: middle;\n",
       "    }\n",
       "\n",
       "    .dataframe tbody tr th {\n",
       "        vertical-align: top;\n",
       "    }\n",
       "\n",
       "    .dataframe thead th {\n",
       "        text-align: right;\n",
       "    }\n",
       "</style>\n",
       "<table border=\"1\" class=\"dataframe\">\n",
       "  <thead>\n",
       "    <tr style=\"text-align: right;\">\n",
       "      <th></th>\n",
       "      <th>Job Satisfaction</th>\n",
       "      <th>Overall Engagement</th>\n",
       "    </tr>\n",
       "    <tr>\n",
       "      <th>Gender</th>\n",
       "      <th></th>\n",
       "      <th></th>\n",
       "    </tr>\n",
       "  </thead>\n",
       "  <tbody>\n",
       "    <tr>\n",
       "      <th>Female</th>\n",
       "      <td>2.777778</td>\n",
       "      <td>3.666667</td>\n",
       "    </tr>\n",
       "    <tr>\n",
       "      <th>Male</th>\n",
       "      <td>3.333333</td>\n",
       "      <td>3.000000</td>\n",
       "    </tr>\n",
       "  </tbody>\n",
       "</table>\n",
       "</div>"
      ],
      "text/plain": [
       "        Job Satisfaction  Overall Engagement\n",
       "Gender                                      \n",
       "Female          2.777778            3.666667\n",
       "Male            3.333333            3.000000"
      ]
     },
     "execution_count": 58,
     "metadata": {},
     "output_type": "execute_result"
    }
   ],
   "source": [
    "genderwise_trends"
   ]
  },
  {
   "cell_type": "code",
   "execution_count": 59,
   "id": "67138065-bd25-46a3-a953-3bc3e3d21972",
   "metadata": {},
   "outputs": [
    {
     "data": {
      "image/png": "[encoded data removed]",
      "text/plain": [
       "<Figure size 800x600 with 1 Axes>"
      ]
     },
     "metadata": {},
     "output_type": "display_data"
    }
   ],
   "source": [
    "# Plotting a grouped bar chart\n",
    "genderwise_trends.plot(kind='bar', figsize=(8, 6), width=0.8)\n",
    "plt.title('Job Satisfaction and Overall Engagement by Gender')\n",
    "plt.xlabel('Gender')\n",
    "plt.ylabel('Scores')\n",
    "plt.xticks(rotation=0)\n",
    "plt.legend(title='Metrics')\n",
    "plt.ylim(0, 5) \n",
    "plt.show()"
   ]
  },
  {
   "cell_type": "markdown",
   "id": "9dcc5f40-ad49-48cf-96d8-485a64ac9fb5",
   "metadata": {},
   "source": [
    "Insights from this: \n",
    "- **Males** have a higher average Job Satisfaction score of **3.33** compared to **2.78** for **Females**. This suggests that male employees may feel more satisfied with their jobs than female employees.\n",
    " - In terms of Overall Engagement, **Females** scored an average of **3.67**, which is higher than the **3.00** average score for **Males**.This indicates that female employees might be more engaged in their work than their male counterparts, despite lower job satisfaction."
   ]
  },
  {
   "cell_type": "markdown",
   "id": "9f6b5b7b-a375-47ba-8da6-3ae191ee7019",
   "metadata": {},
   "source": [
    "## 2. Hypothesis testing "
   ]
  },
  {
   "cell_type": "markdown",
   "id": "3d6c1f43-5a24-42f1-9d98-d26d955fe79a",
   "metadata": {},
   "source": [
    "In hypothesis testing, we test an assumption (called a hypothesis) about a population parameter using sample data. It helps us decide if the observed data significantly deviates from the null hypothesis.\n",
    "\n",
    "Here we have to conduct a hypothesis test to see if there's a statistically significant difference in\n",
    "Job Satisfaction between two specific departments (let's take IT and HR). State your\n",
    "null hypothesis, test method (e.g., t-test), and explain your results."
   ]
  },
  {
   "cell_type": "code",
   "execution_count": 60,
   "id": "2c3c4199-aa33-4e36-8ba3-2a7dc3a235b6",
   "metadata": {},
   "outputs": [
    {
     "name": "stderr",
     "output_type": "stream",
     "text": [
      "C:\\Users\\sudha\\AppData\\Local\\Temp\\ipykernel_81760\\3255496207.py:8: RuntimeWarning: Precision loss occurred in moment calculation due to catastrophic cancellation. This occurs when the data are nearly identical. Results may be unreliable.\n",
      "  t_stat, p_value = stats.ttest_ind(job_satisfaction_IT, job_satisfaction_HR, nan_policy='omit')\n",
      "C:\\Users\\sudha\\anaconda3\\Lib\\site-packages\\scipy\\stats\\_stats_py.py:1214: RuntimeWarning: divide by zero encountered in divide\n",
      "  var *= np.divide(n, n-ddof)  # to avoid error on division by zero\n",
      "C:\\Users\\sudha\\anaconda3\\Lib\\site-packages\\scipy\\stats\\_stats_py.py:1214: RuntimeWarning: invalid value encountered in scalar multiply\n",
      "  var *= np.divide(n, n-ddof)  # to avoid error on division by zero\n"
     ]
    },
    {
     "data": {
      "text/plain": [
       "(nan, nan)"
      ]
     },
     "execution_count": 60,
     "metadata": {},
     "output_type": "execute_result"
    }
   ],
   "source": [
    "from scipy import stats\n",
    "\n",
    "# Extracting Job Satisfaction data for IT and HR departments\n",
    "job_satisfaction_IT = df[df['Department'] == 'IT']['Job Satisfaction']\n",
    "job_satisfaction_HR = df[df['Department'] == 'HR']['Job Satisfaction']\n",
    "\n",
    "# Conduct an independent two-sample t-test\n",
    "t_stat, p_value = stats.ttest_ind(job_satisfaction_IT, job_satisfaction_HR, nan_policy='omit')\n",
    "\n",
    "t_stat, p_value"
   ]
  },
  {
   "cell_type": "code",
   "execution_count": null,
   "id": "6ac36096-48a4-4543-8ab8-60eeff641bc7",
   "metadata": {},
   "outputs": [],
   "source": []
  }
 ],
 "metadata": {
  "kernelspec": {
   "display_name": "Python 3 (ipykernel)",
   "language": "python",
   "name": "python3"
  },
  "language_info": {
   "codemirror_mode": {
    "name": "ipython",
    "version": 3
   },
   "file_extension": ".py",
   "mimetype": "text/x-python",
   "name": "python",
   "nbconvert_exporter": "python",
   "pygments_lexer": "ipython3",
   "version": "3.11.10"
  }
 },
 "nbformat": 4,
 "nbformat_minor": 5
}
